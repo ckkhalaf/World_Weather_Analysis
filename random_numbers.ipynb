{
 "cells": [
  {
   "cell_type": "code",
   "execution_count": 1,
   "id": "835bf2d0-ad71-4a21-874b-3d01b3305855",
   "metadata": {},
   "outputs": [],
   "source": [
    "# Import the random module.\n",
    "import random"
   ]
  },
  {
   "cell_type": "code",
   "execution_count": 2,
   "id": "72bf0829-d89d-4c7d-9d82-1874349d752e",
   "metadata": {},
   "outputs": [
    {
     "data": {
      "text/plain": [
       "16"
      ]
     },
     "execution_count": 2,
     "metadata": {},
     "output_type": "execute_result"
    }
   ],
   "source": [
    "random.randint(-90, 90)"
   ]
  },
  {
   "cell_type": "code",
   "execution_count": 3,
   "id": "e7a44848-1a93-40ba-bf6e-eddb0738a749",
   "metadata": {},
   "outputs": [
    {
     "data": {
      "text/plain": [
       "0.11443923717708548"
      ]
     },
     "execution_count": 3,
     "metadata": {},
     "output_type": "execute_result"
    }
   ],
   "source": [
    "random.random()"
   ]
  },
  {
   "cell_type": "code",
   "execution_count": 4,
   "id": "ac529606-5e14-465a-9e03-25029b91b061",
   "metadata": {},
   "outputs": [
    {
     "data": {
      "text/plain": [
       "14.621470833177522"
      ]
     },
     "execution_count": 4,
     "metadata": {},
     "output_type": "execute_result"
    }
   ],
   "source": [
    "random_number=random.randint(-90, 89)+random.random()\n",
    "random_number"
   ]
  },
  {
   "cell_type": "code",
   "execution_count": 7,
   "id": "b9c9fc2b-1b87-4e25-b3d5-e5aa3d82466b",
   "metadata": {},
   "outputs": [],
   "source": [
    "x = 1\n",
    "latitudes = []\n",
    "while x < 11:\n",
    "    random_lat = random.randint(-90, 89) + random.random()\n",
    "    latitudes.append(random_lat)\n",
    "    x += 1"
   ]
  },
  {
   "cell_type": "code",
   "execution_count": 8,
   "id": "7d602c9b-37f1-44eb-8f67-712925c2a5f3",
   "metadata": {},
   "outputs": [
    {
     "data": {
      "text/plain": [
       "18"
      ]
     },
     "execution_count": 8,
     "metadata": {},
     "output_type": "execute_result"
    }
   ],
   "source": [
    "random.randrange(-90, 90, step=1)"
   ]
  },
  {
   "cell_type": "code",
   "execution_count": 9,
   "id": "d25b866b-ce61-4f66-9dd3-9f6da1e125c4",
   "metadata": {},
   "outputs": [
    {
     "data": {
      "text/plain": [
       "15"
      ]
     },
     "execution_count": 9,
     "metadata": {},
     "output_type": "execute_result"
    }
   ],
   "source": [
    "random.randrange(-90, 90, step=3)"
   ]
  },
  {
   "cell_type": "code",
   "execution_count": 10,
   "id": "13194ba6-a404-478d-86f1-c831eee42736",
   "metadata": {},
   "outputs": [
    {
     "data": {
      "text/plain": [
       "49.239764233465905"
      ]
     },
     "execution_count": 10,
     "metadata": {},
     "output_type": "execute_result"
    }
   ],
   "source": [
    "random.uniform(-90, 90)"
   ]
  },
  {
   "cell_type": "code",
   "execution_count": 11,
   "id": "051f22a1-931d-488f-9a9e-d5150809e70d",
   "metadata": {},
   "outputs": [],
   "source": [
    "# Import the NumPy module.\n",
    "import numpy as np"
   ]
  },
  {
   "cell_type": "code",
   "execution_count": 12,
   "id": "b17be46c-b280-4a6a-94c7-0af2411f1ed8",
   "metadata": {},
   "outputs": [
    {
     "data": {
      "text/plain": [
       "57.17911033828369"
      ]
     },
     "execution_count": 12,
     "metadata": {},
     "output_type": "execute_result"
    }
   ],
   "source": [
    "np.random.uniform(-90.000, 90.000)"
   ]
  },
  {
   "cell_type": "code",
   "execution_count": 13,
   "id": "32ab1832-548c-4c1f-b6cb-8abd78d3059f",
   "metadata": {},
   "outputs": [
    {
     "data": {
      "text/plain": [
       "array([ 44.28843228,  89.37230533,  80.0523944 ,  19.6985202 ,\n",
       "       -10.61381911, -79.9305175 , -19.33427731,  33.28537742,\n",
       "       -84.97077915,   7.26217097, -70.48778141, -86.2113237 ,\n",
       "        23.90869909,  33.28995271,  21.48727574,   3.86976907,\n",
       "        29.71324597, -72.73081766,  21.87538309,   8.91475935,\n",
       "         7.6374165 ,  60.38630842, -38.04067382, -54.0336445 ,\n",
       "        -7.82835123, -11.00195459,   5.68584514,  30.29479788,\n",
       "        86.69978617, -21.81077145, -20.44446154,   7.05002427,\n",
       "        -4.34018839,   2.05099806, -35.79376044, -54.09823486,\n",
       "        58.22811461,  24.71795787,  36.60399774, -28.52850913,\n",
       "        20.73093882,  21.90410342,  77.36971936, -55.97621509,\n",
       "        64.38941565, -75.28845601,  -2.34279122,  20.6056709 ,\n",
       "       -82.06927596, -58.60289704])"
      ]
     },
     "execution_count": 13,
     "metadata": {},
     "output_type": "execute_result"
    }
   ],
   "source": [
    "np.random.uniform(-90.000, 90.000, size=50)"
   ]
  },
  {
   "cell_type": "code",
   "execution_count": 14,
   "id": "dc15b4e7-6812-4c97-b5e2-3e403266369b",
   "metadata": {},
   "outputs": [],
   "source": [
    "# Import timeit.\n",
    "import timeit"
   ]
  },
  {
   "cell_type": "code",
   "execution_count": 15,
   "id": "b1e655b3-5ea2-42c7-9a47-bf5c3e49bf1a",
   "metadata": {},
   "outputs": [
    {
     "name": "stdout",
     "output_type": "stream",
     "text": [
      "20.2 µs ± 2.74 µs per loop (mean ± std. dev. of 7 runs, 10,000 loops each)\n"
     ]
    }
   ],
   "source": [
    "%timeit np.random.uniform(-90.000, 90.000, size=1500)"
   ]
  },
  {
   "cell_type": "code",
   "execution_count": 16,
   "id": "040d3e2a-42ee-498b-af79-1d8ce2eddcd4",
   "metadata": {},
   "outputs": [
    {
     "name": "stdout",
     "output_type": "stream",
     "text": [
      "1.79 ms ± 147 µs per loop (mean ± std. dev. of 7 runs, 100 loops each)\n"
     ]
    }
   ],
   "source": [
    "def latitudes(size):\n",
    "    latitudes = []\n",
    "    x = 0\n",
    "    while x < (size):\n",
    "        random_lat = random.randint(-90, 90) + random.random()\n",
    "        latitudes.append(random_lat)\n",
    "        x += 1\n",
    "    return latitudes\n",
    "# Call the function with 1500.\n",
    "%timeit latitudes(1500)\n"
   ]
  },
  {
   "cell_type": "code",
   "execution_count": null,
   "id": "1627103d-ee7e-4ff0-8c48-8a986321f6d5",
   "metadata": {},
   "outputs": [],
   "source": []
  }
 ],
 "metadata": {
  "kernelspec": {
   "display_name": "Python 3 (ipykernel)",
   "language": "python",
   "name": "python3"
  },
  "language_info": {
   "codemirror_mode": {
    "name": "ipython",
    "version": 3
   },
   "file_extension": ".py",
   "mimetype": "text/x-python",
   "name": "python",
   "nbconvert_exporter": "python",
   "pygments_lexer": "ipython3",
   "version": "3.9.12"
  }
 },
 "nbformat": 4,
 "nbformat_minor": 5
}
